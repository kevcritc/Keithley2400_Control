{
 "cells": [
  {
   "cell_type": "markdown",
   "id": "dd36db70",
   "metadata": {},
   "source": [
    "# Keithley 2400 GUI Instructions\n",
    "\n",
    "## Part A: Installation\n",
    "\n",
    "1. Install **Anaconda** (free download) as a single-user installation.\n",
    "\n",
    "2. Open the **Environment panel**, click the **play icon**, and select **Open Terminal**.\n",
    "\n",
    "3. In the terminal, install the necessary libraries:\n",
    "\n",
    "    - pip install pymeasure  \n",
    "    - pip install pyvisa-py\n",
    "    - pip install pyvisa\n",
    "    - conda install pandas\n",
    "    - conda install matplotlib\n",
    "\n",
    "4. Install the **Spyder App** from Anaconda Navigator.  \n",
    "   *You can use another Python IDE if you prefer, but Spyder is recommended for simplicity.*\n",
    "\n",
    "5. Download the Keithley 2400 control code from:  \n",
    "   [https://www.github.com/kevcritc/Keithley2400_Control](https://www.github.com/kevcritc/Keithley2400_Control)\n",
    "\n",
    "6. Save the code to a directory in **OneDrive** — your measurement data will be saved in the same folder.\n",
    "\n",
    "## Part B: Making Measurements\n",
    "\n",
    "1. Open **Spyder**, then drag and drop the `Keithley_2400_GUI.py` file into it (or open it manually).\n",
    "\n",
    "2. Turn **on the Keithley SourceMeter** and wait for the start-up sequence to complete.\n",
    "\n",
    "3. Click the **play icon** in Spyder to run the code and a **Graphical User Interface (GUI)** will appear.\n",
    "\n",
    "4. Connect to the Keithley using the connect button in the app\n",
    "\n",
    "5. Once connected check the values carefully, set up your wired connections. \n",
    "\n",
    "   - **Single Sweep Mode**: Sweeps through a set current range while measuring voltage.\n",
    "   - **Full Loop Mode**: Sweeps from ($I_0$) to a maximum current ($I_{max}$), then to minimum ($I_{min}$), and then returns to ($I_0$).\n",
    "   - **Time logging Mode**: Monitors current at fixed intervals of >0.7s with a fixed voltage applied.\n",
    "   - **Single Voltage Sweep Mode**: Sweeps through a set voltage range while measuring current.\n",
    "\n",
    "   > 📁 Data is automatically saved as a `.csv` file in the same folder as the `Keithley_2400_GUI.py` file.\n",
    "\n",
    "## Tips\n",
    "\n",
    "- Set a **sensible compliance voltage or current** \n",
    "- Start with **low current values**.\n",
    "- Try a simple **I–V sweep** first to verify connection and setup.\n",
    "- You can click **Stop** to end the measurement\n",
    "\n"
   ]
  },
  {
   "cell_type": "code",
   "execution_count": null,
   "id": "cb339db4",
   "metadata": {},
   "outputs": [],
   "source": []
  }
 ],
 "metadata": {
  "kernelspec": {
   "display_name": "Python 3 (ipykernel)",
   "language": "python",
   "name": "python3"
  },
  "language_info": {
   "codemirror_mode": {
    "name": "ipython",
    "version": 3
   },
   "file_extension": ".py",
   "mimetype": "text/x-python",
   "name": "python",
   "nbconvert_exporter": "python",
   "pygments_lexer": "ipython3",
   "version": "3.10.9"
  }
 },
 "nbformat": 4,
 "nbformat_minor": 5
}
