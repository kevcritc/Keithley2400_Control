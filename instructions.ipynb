{
 "cells": [
  {
   "attachments": {},
   "cell_type": "markdown",
   "id": "b8247c12",
   "metadata": {},
   "source": [
    "# Instructions\n",
    "\n",
    "## Part A: Installation\n",
    "\n",
    "1. Install **Anaconda** (free download) as a single user.\n",
    "2. Once installed, click on the **Environment panel**, then click on the **play icon** and select **Open Terminal**.\n",
    "![image-3.png](attachment:image-3.png)\n",
    "3. In the terminal, install the necessary library packages by entering:\n",
    "\n",
    "   **pip install pymeasure\n",
    "   pip install pyvisa-py**  \n",
    "4. Install the Spyder App from Anaconda\n",
    "![image-4.png](attachment:image-4.png)\n",
    "You can use other python IDEs if you prefer but this one is suitable.![image-5.png](attachment:image-5.png)\n",
    "5.\tNext download the code for four probe measurements from:\n",
    "\n",
    "https://github.com/kevcritc/Keithley2400_Control\n",
    "\n",
    "6.\tSave the code to a directory in OneDrive (your data will appear in the same directory)\n",
    "\n",
    "## Part B: Making measurements\n",
    "\n",
    "1.\tDrag and drop the Keithley_2400_GUI.py code into the Spyder (alternatively open if through Spyder)\n",
    "\n",
    "\n",
    "2.\tSwitch the Keithley Source Meter on and wait for the start sequence to end\n",
    "\n",
    "3.\tRun the code by click on the play icon:\n",
    "![image-8.png](attachment:image-8.png)\n",
    "4.\tOnce the connection with the Keithley is made a GUI will appear.\n",
    "- There are two made modes of operation.  A single sweep through current (measuring voltage) or a full sweep say starting at 0A going to Imax and then returning to Imin.\n",
    "- Data is saved as a CSV file in the folder containing the Keithley_2400_GUI.py code on your Onedrive.\n",
    "\n",
    "## Tips:\n",
    "Set sensible compliance voltage in the middle box.\n",
    "Set low currents first\n",
    "Try a simple I-V sweep first\n",
    "\n",
    "You can click stop at any time.\n",
    "\n",
    "# Safety:\n",
    "Ensure the measurement is done inside the earthed-box.  High currents and voltages can be easy applied particularly if poor contacts are made to the sample.  This can damage the instrument and cause electric shock.  It is important to switch the Keithley off when changing samples.  Do not use without training.\n"
   ]
  }
 ],
 "metadata": {
  "kernelspec": {
   "display_name": "Python 3 (ipykernel)",
   "language": "python",
   "name": "python3"
  },
  "language_info": {
   "codemirror_mode": {
    "name": "ipython",
    "version": 3
   },
   "file_extension": ".py",
   "mimetype": "text/x-python",
   "name": "python",
   "nbconvert_exporter": "python",
   "pygments_lexer": "ipython3",
   "version": "3.10.9"
  }
 },
 "nbformat": 4,
 "nbformat_minor": 5
}
